{
 "cells": [
  {
   "attachments": {},
   "cell_type": "markdown",
   "metadata": {},
   "source": [
    "# Projeto de Análise de Redes\n",
    "\n",
    "# Explicando Dataset\n",
    "\n",
    "## O que é\n",
    "O dataset se trata de uma rede não direcionada da rede Twitch, coletada em 2018. A rede é formada por 168.114 nós e 6.797.557 arestas\n",
    "\n",
    "## O que são os nós e arestas\n",
    "Os nós são usuários da rede Twitch e as arestas são seguidores mútuos, ou seja, seguem um ao outro."
   ]
  },
  {
   "cell_type": "code",
   "execution_count": null,
   "metadata": {},
   "outputs": [],
   "source": [
    "import networkx as nx"
   ]
  }
 ],
 "metadata": {
  "kernelspec": {
   "display_name": "Python 3",
   "language": "python",
   "name": "python3"
  },
  "language_info": {
   "name": "python",
   "version": "3.11.3"
  },
  "orig_nbformat": 4
 },
 "nbformat": 4,
 "nbformat_minor": 2
}
