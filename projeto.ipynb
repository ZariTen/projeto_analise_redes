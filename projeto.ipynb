{
 "cells": [
  {
   "attachments": {},
   "cell_type": "markdown",
   "metadata": {},
   "source": [
    "# Projeto de Análise de Redes\n",
    "\n",
    "# Explicando Dataset\n",
    "\n",
    "## O que é\n",
    "O dataset é uma rede de usuários da LastFM, uma rede social com foco em música. Foi obtido em [https://snap.stanford.edu/data/feather-lastfm-social.html](https://snap.stanford.edu/data/feather-lastfm-social.html) e é composto por 7624 nós e 27806 arestas.\n",
    "\n",
    "\n",
    "## O que são os nós e arestas\n",
    "Os nós são os usuários da rede e as arestas são as conexões entre eles. As conexões são feitas quando um usuário adiciona outro como amigo, de forma mútua. Ou seja, se o usuário A adiciona o usuário B como amigo, o usuário B também adiciona o usuário A como amigo."
   ]
  },
  {
   "cell_type": "code",
   "execution_count": 2,
   "metadata": {},
   "outputs": [
    {
     "name": "stdout",
     "output_type": "stream",
     "text": [
      "Quantidade de nós:  7624\n",
      "Quantidade de arestas:  27806\n"
     ]
    }
   ],
   "source": [
    "import networkx as nx\n",
    "import pandas as pd\n",
    "import numpy as np\n",
    "import matplotlib.pyplot as plt\n",
    "\n",
    "# Importar grafo\n",
    "grafo = pd.read_csv('lastfm_asia_edges.csv')\n",
    "G = nx.Graph()\n",
    "G = nx.from_pandas_edgelist(grafo, create_using=nx.Graph())\n",
    "# Quantidade de nós e arestas\n",
    "print('Quantidade de nós: ', G.number_of_nodes())\n",
    "print('Quantidade de arestas: ', G.number_of_edges())"
   ]
  },
  {
   "cell_type": "code",
   "execution_count": null,
   "metadata": {},
   "outputs": [],
   "source": [
    "# Matriz de adjacência\n",
    "matriz_adj = nx.adjacency_matrix(G)\n",
    "adj_coo = matriz_adj.tocoo()\n",
    "plt.figure(figsize=(15,15))\n",
    "plt.spy(matriz_adj, markersize=0.1)\n",
    "plt.show()\n",
    "\n",
    "# Diâmetro e periferia da rede\n",
    "print('Diâmetro da rede: ', nx.diameter(G))\n",
    "print('Periferia da rede: ', nx.periphery(G))"
   ]
  },
  {
   "cell_type": "code",
   "execution_count": 8,
   "metadata": {},
   "outputs": [
    {
     "name": "stdout",
     "output_type": "stream",
     "text": [
      "Espersidade da rede:  0.0009568849118596328\n",
      "Densidade da rede:  0.0009568849118596328\n",
      "Assosritivdade geral da rede:  0.01707317256063152\n"
     ]
    }
   ],
   "source": [
    "# Espersidade e densidade da rede\n",
    "print('Espersidade da rede: ', nx.density(G))\n",
    "print('Densidade da rede: ', nx.density(G))\n",
    "\n",
    "# Assosritivdade geral da rede\n",
    "print('Assosritivdade geral da rede: ', nx.degree_assortativity_coefficient(G))"
   ]
  },
  {
   "cell_type": "code",
   "execution_count": 10,
   "metadata": {},
   "outputs": [
    {
     "data": {
      "image/png": "[encoded data removed]",
      "text/plain": [
       "<Figure size 640x480 with 1 Axes>"
      ]
     },
     "metadata": {},
     "output_type": "display_data"
    }
   ],
   "source": [
    "# Visualização do Hisograma de distribuição impírica de grau\n",
    "graus = [G.degree(n) for n in G.nodes()]\n",
    "plt.hist(graus, bins=100)\n",
    "plt.show()"
   ]
  },
  {
   "cell_type": "code",
   "execution_count": null,
   "metadata": {},
   "outputs": [],
   "source": []
  },
  {
   "cell_type": "code",
   "execution_count": 3,
   "metadata": {},
   "outputs": [
    {
     "ename": "KeyboardInterrupt",
     "evalue": "",
     "output_type": "error",
     "traceback": [
      "\u001b[0;31m---------------------------------------------------------------------------\u001b[0m",
      "\u001b[0;31mKeyboardInterrupt\u001b[0m                         Traceback (most recent call last)",
      "Cell \u001b[0;32mIn[3], line 5\u001b[0m\n\u001b[1;32m      3\u001b[0m degree \u001b[39m=\u001b[39m nx\u001b[39m.\u001b[39mdegree_centrality(G)\n\u001b[1;32m      4\u001b[0m closeness \u001b[39m=\u001b[39m nx\u001b[39m.\u001b[39mcloseness_centrality(G)\n\u001b[0;32m----> 5\u001b[0m betweenness \u001b[39m=\u001b[39m nx\u001b[39m.\u001b[39;49mbetweenness_centrality(G)\n\u001b[1;32m      6\u001b[0m \u001b[39mprint\u001b[39m(\u001b[39m'\u001b[39m\u001b[39mEigenvector centrality: \u001b[39m\u001b[39m'\u001b[39m, eigenvector)\n\u001b[1;32m      7\u001b[0m \u001b[39mprint\u001b[39m(\u001b[39m'\u001b[39m\u001b[39mDegree centrality: \u001b[39m\u001b[39m'\u001b[39m, degree)\n",
      "File \u001b[0;32m/usr/lib/python3.11/site-packages/networkx/classes/backends.py:148\u001b[0m, in \u001b[0;36m_dispatch.<locals>.wrapper\u001b[0;34m(*args, **kwds)\u001b[0m\n\u001b[1;32m    144\u001b[0m         \u001b[39melse\u001b[39;00m:\n\u001b[1;32m    145\u001b[0m             \u001b[39mraise\u001b[39;00m NetworkXNotImplemented(\n\u001b[1;32m    146\u001b[0m                 \u001b[39mf\u001b[39m\u001b[39m\"\u001b[39m\u001b[39m'\u001b[39m\u001b[39m{\u001b[39;00mname\u001b[39m}\u001b[39;00m\u001b[39m'\u001b[39m\u001b[39m not implemented by \u001b[39m\u001b[39m{\u001b[39;00mplugin_name\u001b[39m}\u001b[39;00m\u001b[39m\"\u001b[39m\n\u001b[1;32m    147\u001b[0m             )\n\u001b[0;32m--> 148\u001b[0m \u001b[39mreturn\u001b[39;00m func(\u001b[39m*\u001b[39;49margs, \u001b[39m*\u001b[39;49m\u001b[39m*\u001b[39;49mkwds)\n",
      "File \u001b[0;32m/usr/lib/python3.11/site-packages/networkx/utils/decorators.py:766\u001b[0m, in \u001b[0;36margmap.__call__.<locals>.func\u001b[0;34m(_argmap__wrapper, *args, **kwargs)\u001b[0m\n\u001b[1;32m    765\u001b[0m \u001b[39mdef\u001b[39;00m \u001b[39mfunc\u001b[39m(\u001b[39m*\u001b[39margs, __wrapper\u001b[39m=\u001b[39m\u001b[39mNone\u001b[39;00m, \u001b[39m*\u001b[39m\u001b[39m*\u001b[39mkwargs):\n\u001b[0;32m--> 766\u001b[0m     \u001b[39mreturn\u001b[39;00m argmap\u001b[39m.\u001b[39;49m_lazy_compile(__wrapper)(\u001b[39m*\u001b[39;49margs, \u001b[39m*\u001b[39;49m\u001b[39m*\u001b[39;49mkwargs)\n",
      "File \u001b[0;32m<class 'networkx.utils.decorators.argmap'> compilation 12:4\u001b[0m, in \u001b[0;36margmap_betweenness_centrality_9\u001b[0;34m(G, k, normalized, weight, endpoints, seed)\u001b[0m\n\u001b[1;32m      2\u001b[0m \u001b[39mimport\u001b[39;00m \u001b[39mcollections\u001b[39;00m\n\u001b[1;32m      3\u001b[0m \u001b[39mimport\u001b[39;00m \u001b[39mgzip\u001b[39;00m\n\u001b[0;32m----> 4\u001b[0m \u001b[39mimport\u001b[39;00m \u001b[39minspect\u001b[39;00m\n\u001b[1;32m      5\u001b[0m \u001b[39mimport\u001b[39;00m \u001b[39mitertools\u001b[39;00m\n\u001b[1;32m      6\u001b[0m \u001b[39mimport\u001b[39;00m \u001b[39mre\u001b[39;00m\n",
      "File \u001b[0;32m/usr/lib/python3.11/site-packages/networkx/algorithms/centrality/betweenness.py:138\u001b[0m, in \u001b[0;36mbetweenness_centrality\u001b[0;34m(G, k, normalized, weight, endpoints, seed)\u001b[0m\n\u001b[1;32m    136\u001b[0m         betweenness, _ \u001b[39m=\u001b[39m _accumulate_endpoints(betweenness, S, P, sigma, s)\n\u001b[1;32m    137\u001b[0m     \u001b[39melse\u001b[39;00m:\n\u001b[0;32m--> 138\u001b[0m         betweenness, _ \u001b[39m=\u001b[39m _accumulate_basic(betweenness, S, P, sigma, s)\n\u001b[1;32m    139\u001b[0m \u001b[39m# rescaling\u001b[39;00m\n\u001b[1;32m    140\u001b[0m betweenness \u001b[39m=\u001b[39m _rescale(\n\u001b[1;32m    141\u001b[0m     betweenness,\n\u001b[1;32m    142\u001b[0m     \u001b[39mlen\u001b[39m(G),\n\u001b[0;32m   (...)\u001b[0m\n\u001b[1;32m    146\u001b[0m     endpoints\u001b[39m=\u001b[39mendpoints,\n\u001b[1;32m    147\u001b[0m )\n",
      "File \u001b[0;32m/usr/lib/python3.11/site-packages/networkx/algorithms/centrality/betweenness.py:317\u001b[0m, in \u001b[0;36m_accumulate_basic\u001b[0;34m(betweenness, S, P, sigma, s)\u001b[0m\n\u001b[1;32m    315\u001b[0m coeff \u001b[39m=\u001b[39m (\u001b[39m1\u001b[39m \u001b[39m+\u001b[39m delta[w]) \u001b[39m/\u001b[39m sigma[w]\n\u001b[1;32m    316\u001b[0m \u001b[39mfor\u001b[39;00m v \u001b[39min\u001b[39;00m P[w]:\n\u001b[0;32m--> 317\u001b[0m     delta[v] \u001b[39m+\u001b[39m\u001b[39m=\u001b[39m sigma[v] \u001b[39m*\u001b[39m coeff\n\u001b[1;32m    318\u001b[0m \u001b[39mif\u001b[39;00m w \u001b[39m!=\u001b[39m s:\n\u001b[1;32m    319\u001b[0m     betweenness[w] \u001b[39m+\u001b[39m\u001b[39m=\u001b[39m delta[w]\n",
      "\u001b[0;31mKeyboardInterrupt\u001b[0m: "
     ]
    }
   ],
   "source": [
    "# Calculando valores de Eigenvector centrality, Degree centrality, Closeness centrality e Betweenness centrality\n",
    "eigenvector = nx.eigenvector_centrality(G)\n",
    "degree = nx.degree_centrality(G)\n",
    "closeness = nx.closeness_centrality(G)\n",
    "betweenness = nx.betweenness_centrality(G)\n",
    "print('Eigenvector centrality: ', eigenvector)\n",
    "print('Degree centrality: ', degree)\n",
    "print('Closeness centrality: ', closeness)\n",
    "print('Betweenness centrality: ', betweenness)"
   ]
  }
 ],
 "metadata": {
  "kernelspec": {
   "display_name": "Python 3",
   "language": "python",
   "name": "python3"
  },
  "language_info": {
   "codemirror_mode": {
    "name": "ipython",
    "version": 3
   },
   "file_extension": ".py",
   "mimetype": "text/x-python",
   "name": "python",
   "nbconvert_exporter": "python",
   "pygments_lexer": "ipython3",
   "version": "3.11.3"
  },
  "orig_nbformat": 4
 },
 "nbformat": 4,
 "nbformat_minor": 2
}
